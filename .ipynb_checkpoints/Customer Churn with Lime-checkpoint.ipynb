{
 "cells": [
  {
   "cell_type": "code",
   "execution_count": 16,
   "metadata": {
    "scrolled": false
   },
   "outputs": [
    {
     "name": "stderr",
     "output_type": "stream",
     "text": [
      "Warning message:\n",
      "\"packages 'lime', 'yardstick' are not available (for R version 3.4.3)\"Warning message:\n",
      "\"packages 'keras', 'tidyquant', 'rsample', 'recipes' are in use and will not be installed\""
     ]
    },
    {
     "name": "stdout",
     "output_type": "stream",
     "text": [
      "package 'XLConnect' successfully unpacked and MD5 sums checked\n",
      "package 'corrr' successfully unpacked and MD5 sums checked\n",
      "\n",
      "The downloaded binary packages are in\n",
      "\tC:\\Users\\v-phchao\\AppData\\Local\\Temp\\Rtmp2hdtaa\\downloaded_packages\n"
     ]
    }
   ],
   "source": [
    "pkgs <- c(\"keras\", \"lime\", \"tidyquant\", \"XLConnect\" ,\"rsample\", \"recipes\", \"yardstick\", \"corrr\")\n",
    "install.packages(pkgs)"
   ]
  },
  {
   "cell_type": "code",
   "execution_count": 17,
   "metadata": {},
   "outputs": [
    {
     "name": "stderr",
     "output_type": "stream",
     "text": [
      "Warning message:\n",
      "\"running command '\"C:/Users/v-phchao/AppData/Local/Continuum/anaconda3/lib/R/bin/x64/R\" CMD INSTALL -l \"C:\\Users\\v-phchao\\AppData\\Local\\Continuum\\anaconda3\\Lib\\R\\library\" \"/Users/v-phchao/AppData/Local/Temp/Rtmp2hdtaa/downloaded_packages\"' had status 1\"Warning message in install.packages(\"/Users/v-phchao/AppData/Local/Temp/Rtmp2hdtaa/downloaded_packages\", :\n",
      "\"installation of package '/Users/v-phchao/AppData/Local/Temp/Rtmp2hdtaa/downloaded_packages' had non-zero exit status\""
     ]
    }
   ],
   "source": [
    "install.packages(\"/Users/v-phchao/AppData/Local/Temp/Rtmp2hdtaa/downloaded_packages\", repos = NULL, type=\"source\")"
   ]
  },
  {
   "cell_type": "code",
   "execution_count": 26,
   "metadata": {},
   "outputs": [
    {
     "name": "stderr",
     "output_type": "stream",
     "text": [
      "Warning message:\n",
      "\"unable to access index for repository https://cran.rstudio.com/src/contrib/lime_0.4.0.tar.gz/src/contrib:\n",
      "  cannot open URL 'https://cran.rstudio.com/src/contrib/lime_0.4.0.tar.gz/src/contrib/PACKAGES'\"Warning message:\n",
      "\"package 'lime' is not available (for R version 3.4.3)\"Warning message:\n",
      "\"unable to access index for repository https://cran.rstudio.com/src/contrib/lime_0.4.0.tar.gz/bin/windows/contrib/3.4:\n",
      "  cannot open URL 'https://cran.rstudio.com/src/contrib/lime_0.4.0.tar.gz/bin/windows/contrib/3.4/PACKAGES'\""
     ]
    }
   ],
   "source": [
    "install.packages('lime', dependencies=TRUE, repos='https://cran.rstudio.com/src/contrib/lime_0.4.0.tar.gz')\n"
   ]
  },
  {
   "cell_type": "code",
   "execution_count": 20,
   "metadata": {},
   "outputs": [
    {
     "ename": "ERROR",
     "evalue": "Error in library(lime): there is no package called 'lime'\n",
     "output_type": "error",
     "traceback": [
      "Error in library(lime): there is no package called 'lime'\nTraceback:\n",
      "1. library(lime)",
      "2. stop(txt, domain = NA)"
     ]
    }
   ],
   "source": [
    "# Load libraries\n",
    "library(keras)\n",
    "library(lime)\n",
    "library(tidyquant)\n",
    "library(rsample)\n",
    "library(recipes)\n",
    "library(yardstick)\n",
    "library(corrr)"
   ]
  },
  {
   "cell_type": "code",
   "execution_count": 27,
   "metadata": {},
   "outputs": [
    {
     "name": "stderr",
     "output_type": "stream",
     "text": [
      "Downloading GitHub repo thomasp85/lime@master\n",
      "from URL https://api.github.com/repos/thomasp85/lime/zipball/master\n",
      "Installing lime\n",
      "Installing 1 package: glmnet\n"
     ]
    },
    {
     "name": "stdout",
     "output_type": "stream",
     "text": [
      "package 'glmnet' successfully unpacked and MD5 sums checked\n",
      "\n",
      "The downloaded binary packages are in\n",
      "\tC:\\Users\\v-phchao\\AppData\\Local\\Temp\\Rtmp2hdtaa\\downloaded_packages\n"
     ]
    },
    {
     "name": "stderr",
     "output_type": "stream",
     "text": [
      "Installing 1 package: htmlwidgets\n"
     ]
    },
    {
     "name": "stdout",
     "output_type": "stream",
     "text": [
      "package 'htmlwidgets' successfully unpacked and MD5 sums checked\n",
      "\n",
      "The downloaded binary packages are in\n",
      "\tC:\\Users\\v-phchao\\AppData\\Local\\Temp\\Rtmp2hdtaa\\downloaded_packages\n"
     ]
    },
    {
     "name": "stderr",
     "output_type": "stream",
     "text": [
      "Installing 1 package: RcppEigen\n"
     ]
    },
    {
     "name": "stdout",
     "output_type": "stream",
     "text": [
      "package 'RcppEigen' successfully unpacked and MD5 sums checked\n",
      "\n",
      "The downloaded binary packages are in\n",
      "\tC:\\Users\\v-phchao\\AppData\\Local\\Temp\\Rtmp2hdtaa\\downloaded_packages\n"
     ]
    },
    {
     "name": "stderr",
     "output_type": "stream",
     "text": [
      "Installing 1 package: shiny\n",
      "also installing the dependencies 'httpuv', 'xtable', 'sourcetools'\n",
      "\n"
     ]
    },
    {
     "name": "stdout",
     "output_type": "stream",
     "text": [
      "package 'httpuv' successfully unpacked and MD5 sums checked\n",
      "package 'xtable' successfully unpacked and MD5 sums checked\n",
      "package 'sourcetools' successfully unpacked and MD5 sums checked\n",
      "package 'shiny' successfully unpacked and MD5 sums checked\n",
      "\n",
      "The downloaded binary packages are in\n",
      "\tC:\\Users\\v-phchao\\AppData\\Local\\Temp\\Rtmp2hdtaa\\downloaded_packages\n"
     ]
    },
    {
     "name": "stderr",
     "output_type": "stream",
     "text": [
      "Installing 1 package: shinythemes\n"
     ]
    },
    {
     "name": "stdout",
     "output_type": "stream",
     "text": [
      "package 'shinythemes' successfully unpacked and MD5 sums checked\n",
      "\n",
      "The downloaded binary packages are in\n",
      "\tC:\\Users\\v-phchao\\AppData\\Local\\Temp\\Rtmp2hdtaa\\downloaded_packages\n"
     ]
    },
    {
     "name": "stderr",
     "output_type": "stream",
     "text": [
      "Installing 1 package: stringdist\n"
     ]
    },
    {
     "name": "stdout",
     "output_type": "stream",
     "text": [
      "package 'stringdist' successfully unpacked and MD5 sums checked\n",
      "\n",
      "The downloaded binary packages are in\n",
      "\tC:\\Users\\v-phchao\\AppData\\Local\\Temp\\Rtmp2hdtaa\\downloaded_packages\n"
     ]
    },
    {
     "name": "stderr",
     "output_type": "stream",
     "text": [
      "\"C:/Users/v-phchao/AppData/Local/Continuum/anaconda3/lib/R/bin/x64/R\"  \\\n",
      "  --no-site-file --no-environ --no-save --no-restore --quiet CMD INSTALL  \\\n",
      "  \"C:/Users/v-phchao/AppData/Local/Temp/Rtmp2hdtaa/devtools549c15a7759d/thomasp85-lime-9e3ea92\"  \\\n",
      "  --library=\"C:/Users/v-phchao/AppData/Local/Continuum/anaconda3/Lib/R/library\"  \\\n",
      "  --install-tests \n",
      "\n"
     ]
    }
   ],
   "source": [
    "devtools::install_github('thomasp85/lime')"
   ]
  },
  {
   "cell_type": "code",
   "execution_count": 29,
   "metadata": {},
   "outputs": [
    {
     "name": "stderr",
     "output_type": "stream",
     "text": [
      "Downloading GitHub repo tidymodels/yardstick@master\n",
      "from URL https://api.github.com/repos/tidymodels/yardstick/zipball/master\n",
      "Installing yardstick\n",
      "Installing 1 package: MLmetrics\n",
      "also installing the dependency 'ROCR'\n",
      "\n"
     ]
    },
    {
     "name": "stdout",
     "output_type": "stream",
     "text": [
      "package 'ROCR' successfully unpacked and MD5 sums checked\n",
      "package 'MLmetrics' successfully unpacked and MD5 sums checked\n",
      "\n",
      "The downloaded binary packages are in\n",
      "\tC:\\Users\\v-phchao\\AppData\\Local\\Temp\\Rtmp2hdtaa\\downloaded_packages\n"
     ]
    },
    {
     "name": "stderr",
     "output_type": "stream",
     "text": [
      "Installing 1 package: pROC\n"
     ]
    },
    {
     "name": "stdout",
     "output_type": "stream",
     "text": [
      "package 'pROC' successfully unpacked and MD5 sums checked\n",
      "\n",
      "The downloaded binary packages are in\n",
      "\tC:\\Users\\v-phchao\\AppData\\Local\\Temp\\Rtmp2hdtaa\\downloaded_packages\n"
     ]
    },
    {
     "name": "stderr",
     "output_type": "stream",
     "text": [
      "\"C:/Users/v-phchao/AppData/Local/Continuum/anaconda3/lib/R/bin/x64/R\"  \\\n",
      "  --no-site-file --no-environ --no-save --no-restore --quiet CMD INSTALL  \\\n",
      "  \"C:/Users/v-phchao/AppData/Local/Temp/Rtmp2hdtaa/devtools549c488738fa/tidymodels-yardstick-e5c51a0\"  \\\n",
      "  --library=\"C:/Users/v-phchao/AppData/Local/Continuum/anaconda3/Lib/R/library\"  \\\n",
      "  --install-tests \n",
      "\n"
     ]
    }
   ],
   "source": [
    "devtools::install_github('tidymodels/yardstick')"
   ]
  },
  {
   "cell_type": "code",
   "execution_count": 30,
   "metadata": {},
   "outputs": [
    {
     "name": "stderr",
     "output_type": "stream",
     "text": [
      "For binary classification, the first factor level is assumed to be the event.\n",
      "Set the global option `yardstick.event_first` to `FALSE` to change this.\n",
      "\n",
      "\n",
      "Attaching package: 'yardstick'\n",
      "\n",
      "The following object is masked from 'package:readr':\n",
      "\n",
      "    spec\n",
      "\n"
     ]
    }
   ],
   "source": [
    "# Load libraries\n",
    "library(keras)\n",
    "library(lime)\n",
    "library(tidyquant)\n",
    "library(rsample)\n",
    "library(recipes)\n",
    "library(yardstick)\n",
    "library(corrr)"
   ]
  },
  {
   "cell_type": "code",
   "execution_count": 43,
   "metadata": {},
   "outputs": [],
   "source": [
    "library(tidyquant)\n",
    "library(rsample)\n",
    "library(recipes)\n",
    "library(yardstick)\n",
    "library(corrr)"
   ]
  },
  {
   "cell_type": "code",
   "execution_count": 44,
   "metadata": {},
   "outputs": [
    {
     "name": "stdout",
     "output_type": "stream",
     "text": [
      "Using r-tensorflow conda environment for TensorFlow installation\n",
      "Determining latest release of TensorFlow...done\n",
      "Installing TensorFlow...\n",
      "\n",
      "Installation of TensorFlow complete.\n",
      "\n",
      "\n",
      "Installation of Keras complete.\n",
      "\n"
     ]
    }
   ],
   "source": [
    "install_keras()"
   ]
  },
  {
   "cell_type": "code",
   "execution_count": 45,
   "metadata": {},
   "outputs": [
    {
     "name": "stderr",
     "output_type": "stream",
     "text": [
      "Parsed with column specification:\n",
      "cols(\n",
      "  .default = col_character(),\n",
      "  SeniorCitizen = col_integer(),\n",
      "  tenure = col_integer(),\n",
      "  MonthlyCharges = col_double(),\n",
      "  TotalCharges = col_double()\n",
      ")\n",
      "See spec(...) for full column specifications.\n"
     ]
    },
    {
     "name": "stdout",
     "output_type": "stream",
     "text": [
      "Observations: 7,043\n",
      "Variables: 21\n",
      "$ customerID       <chr> \"7590-VHVEG\", \"5575-GNVDE\", \"3668-QPYBK\", \"7795-CF...\n",
      "$ gender           <chr> \"Female\", \"Male\", \"Male\", \"Male\", \"Female\", \"Femal...\n",
      "$ SeniorCitizen    <int> 0, 0, 0, 0, 0, 0, 0, 0, 0, 0, 0, 0, 0, 0, 0, 0, 0,...\n",
      "$ Partner          <chr> \"Yes\", \"No\", \"No\", \"No\", \"No\", \"No\", \"No\", \"No\", \"...\n",
      "$ Dependents       <chr> \"No\", \"No\", \"No\", \"No\", \"No\", \"No\", \"Yes\", \"No\", \"...\n",
      "$ tenure           <int> 1, 34, 2, 45, 2, 8, 22, 10, 28, 62, 13, 16, 58, 49...\n",
      "$ PhoneService     <chr> \"No\", \"Yes\", \"Yes\", \"No\", \"Yes\", \"Yes\", \"Yes\", \"No...\n",
      "$ MultipleLines    <chr> \"No phone service\", \"No\", \"No\", \"No phone service\"...\n",
      "$ InternetService  <chr> \"DSL\", \"DSL\", \"DSL\", \"DSL\", \"Fiber optic\", \"Fiber ...\n",
      "$ OnlineSecurity   <chr> \"No\", \"Yes\", \"Yes\", \"Yes\", \"No\", \"No\", \"No\", \"Yes\"...\n",
      "$ OnlineBackup     <chr> \"Yes\", \"No\", \"Yes\", \"No\", \"No\", \"No\", \"Yes\", \"No\",...\n",
      "$ DeviceProtection <chr> \"No\", \"Yes\", \"No\", \"Yes\", \"No\", \"Yes\", \"No\", \"No\",...\n",
      "$ TechSupport      <chr> \"No\", \"No\", \"No\", \"Yes\", \"No\", \"No\", \"No\", \"No\", \"...\n",
      "$ StreamingTV      <chr> \"No\", \"No\", \"No\", \"No\", \"No\", \"Yes\", \"Yes\", \"No\", ...\n",
      "$ StreamingMovies  <chr> \"No\", \"No\", \"No\", \"No\", \"No\", \"Yes\", \"No\", \"No\", \"...\n",
      "$ Contract         <chr> \"Month-to-month\", \"One year\", \"Month-to-month\", \"O...\n",
      "$ PaperlessBilling <chr> \"Yes\", \"No\", \"Yes\", \"No\", \"Yes\", \"Yes\", \"Yes\", \"No...\n",
      "$ PaymentMethod    <chr> \"Electronic check\", \"Mailed check\", \"Mailed check\"...\n",
      "$ MonthlyCharges   <dbl> 29.85, 56.95, 53.85, 42.30, 70.70, 99.65, 89.10, 2...\n",
      "$ TotalCharges     <dbl> 29.85, 1889.50, 108.15, 1840.75, 151.65, 820.50, 1...\n",
      "$ Churn            <chr> \"No\", \"No\", \"Yes\", \"No\", \"Yes\", \"Yes\", \"No\", \"No\",...\n"
     ]
    }
   ],
   "source": [
    "# Import data\n",
    "churn_data_raw <- read_csv(\"WA_Fn-UseC_-Telco-Customer-Churn.csv\")\n",
    "\n",
    "glimpse(churn_data_raw)"
   ]
  },
  {
   "cell_type": "code",
   "execution_count": 46,
   "metadata": {},
   "outputs": [
    {
     "name": "stdout",
     "output_type": "stream",
     "text": [
      "Observations: 7,032\n",
      "Variables: 20\n",
      "$ Churn            <chr> \"No\", \"No\", \"Yes\", \"No\", \"Yes\", \"Yes\", \"No\", \"No\",...\n",
      "$ gender           <chr> \"Female\", \"Male\", \"Male\", \"Male\", \"Female\", \"Femal...\n",
      "$ SeniorCitizen    <int> 0, 0, 0, 0, 0, 0, 0, 0, 0, 0, 0, 0, 0, 0, 0, 0, 0,...\n",
      "$ Partner          <chr> \"Yes\", \"No\", \"No\", \"No\", \"No\", \"No\", \"No\", \"No\", \"...\n",
      "$ Dependents       <chr> \"No\", \"No\", \"No\", \"No\", \"No\", \"No\", \"Yes\", \"No\", \"...\n",
      "$ tenure           <int> 1, 34, 2, 45, 2, 8, 22, 10, 28, 62, 13, 16, 58, 49...\n",
      "$ PhoneService     <chr> \"No\", \"Yes\", \"Yes\", \"No\", \"Yes\", \"Yes\", \"Yes\", \"No...\n",
      "$ MultipleLines    <chr> \"No phone service\", \"No\", \"No\", \"No phone service\"...\n",
      "$ InternetService  <chr> \"DSL\", \"DSL\", \"DSL\", \"DSL\", \"Fiber optic\", \"Fiber ...\n",
      "$ OnlineSecurity   <chr> \"No\", \"Yes\", \"Yes\", \"Yes\", \"No\", \"No\", \"No\", \"Yes\"...\n",
      "$ OnlineBackup     <chr> \"Yes\", \"No\", \"Yes\", \"No\", \"No\", \"No\", \"Yes\", \"No\",...\n",
      "$ DeviceProtection <chr> \"No\", \"Yes\", \"No\", \"Yes\", \"No\", \"Yes\", \"No\", \"No\",...\n",
      "$ TechSupport      <chr> \"No\", \"No\", \"No\", \"Yes\", \"No\", \"No\", \"No\", \"No\", \"...\n",
      "$ StreamingTV      <chr> \"No\", \"No\", \"No\", \"No\", \"No\", \"Yes\", \"Yes\", \"No\", ...\n",
      "$ StreamingMovies  <chr> \"No\", \"No\", \"No\", \"No\", \"No\", \"Yes\", \"No\", \"No\", \"...\n",
      "$ Contract         <chr> \"Month-to-month\", \"One year\", \"Month-to-month\", \"O...\n",
      "$ PaperlessBilling <chr> \"Yes\", \"No\", \"Yes\", \"No\", \"Yes\", \"Yes\", \"Yes\", \"No...\n",
      "$ PaymentMethod    <chr> \"Electronic check\", \"Mailed check\", \"Mailed check\"...\n",
      "$ MonthlyCharges   <dbl> 29.85, 56.95, 53.85, 42.30, 70.70, 99.65, 89.10, 2...\n",
      "$ TotalCharges     <dbl> 29.85, 1889.50, 108.15, 1840.75, 151.65, 820.50, 1...\n"
     ]
    }
   ],
   "source": [
    "# Remove unnecessary data\n",
    "churn_data_tbl <- churn_data_raw %>%\n",
    "    select(-customerID) %>%\n",
    "    drop_na() %>%\n",
    "    select(Churn, everything())\n",
    "    \n",
    "glimpse(churn_data_tbl)"
   ]
  },
  {
   "cell_type": "code",
   "execution_count": 58,
   "metadata": {},
   "outputs": [],
   "source": [
    "# Split test/training sets\n",
    "set.seed(100)\n",
    "train_test_split <- mc_cv(churn_data_tbl, prop = 8/10)\n",
    "\n",
    "# train_test_split keeps running out of memory \n",
    "\n"
   ]
  },
  {
   "cell_type": "code",
   "execution_count": 59,
   "metadata": {},
   "outputs": [
    {
     "ename": "ERROR",
     "evalue": "Error in training(train_test_split): could not find function \"training\"\n",
     "output_type": "error",
     "traceback": [
      "Error in training(train_test_split): could not find function \"training\"\nTraceback:\n"
     ]
    }
   ],
   "source": [
    "# Retrieve train and test sets\n",
    "train_tbl_with_ids <- training(train_test_split)\n",
    "test_tbl_with_ids  <- testing(train_test_split)\n",
    "\n",
    "train_tbl <- select(train_tbl_with_ids, -customerID)\n",
    "test_tbl <- select(test_tbl_with_ids, -customerID)"
   ]
  },
  {
   "cell_type": "code",
   "execution_count": 60,
   "metadata": {},
   "outputs": [
    {
     "ename": "ERROR",
     "evalue": "Error in eval(lhs, parent, parent): object 'train_tbl' not found\n",
     "output_type": "error",
     "traceback": [
      "Error in eval(lhs, parent, parent): object 'train_tbl' not found\nTraceback:\n",
      "1. train_tbl %>% select(Churn, TotalCharges) %>% mutate(Churn = Churn %>% \n .     as.factor() %>% as.numeric(), LogTotalCharges = log(TotalCharges)) %>% \n .     correlate() %>% focus(Churn) %>% fashion()",
      "2. eval(lhs, parent, parent)",
      "3. eval(lhs, parent, parent)"
     ]
    }
   ],
   "source": [
    "\n",
    "\n",
    "# Determine if log transformation improves correlation \n",
    "# between TotalCharges and Churn\n",
    "train_tbl %>%\n",
    "    select(Churn, TotalCharges) %>%\n",
    "    mutate(\n",
    "        Churn = Churn %>% as.factor() %>% as.numeric(),\n",
    "        LogTotalCharges = log(TotalCharges)\n",
    "    ) %>%\n",
    "    correlate() %>%\n",
    "    focus(Churn) %>%\n",
    "    fashion()\n",
    "\n",
    "# Create recipe\n",
    "rec_obj <- recipe(Churn ~ ., data = train_tbl) %>%\n",
    "    step_discretize(tenure, options = list(cuts = 6)) %>%\n",
    "    step_log(TotalCharges) %>%\n",
    "    step_dummy(all_nominal(), -all_outcomes()) %>%\n",
    "    step_center(all_predictors(), -all_outcomes()) %>%\n",
    "    step_scale(all_predictors(), -all_outcomes()) %>%\n",
    "    prep(data = train_tbl)\n",
    "\n",
    "x_train_tbl <- bake(rec_obj, newdata = train_tbl) %>% select(-Churn)\n",
    "x_test_tbl  <- bake(rec_obj, newdata = test_tbl) %>% select(-Churn)\n",
    "\n",
    "y_train_vec <- ifelse(pull(train_tbl, Churn) == 'Yes', 1, 0)\n",
    "y_test_vec  <- ifelse(pull(test_tbl, Churn) == 'Yes', 1, 0)\n",
    "\n",
    "# Building our Artificial Neural Network\n",
    "model_keras <- keras_model_sequential()\n",
    "\n",
    "model_keras %>% \n",
    "    # First hidden layer\n",
    "    layer_dense(\n",
    "        units              = 16, \n",
    "        kernel_initializer = \"uniform\", \n",
    "        activation         = \"relu\", \n",
    "        input_shape        = ncol(x_train_tbl)) %>% \n",
    "    # Dropout to prevent overfitting\n",
    "    layer_dropout(rate = 0.1) %>%\n",
    "    # Second hidden layer\n",
    "    layer_dense(\n",
    "        units              = 16, \n",
    "        kernel_initializer = \"uniform\", \n",
    "        activation         = \"relu\") %>% \n",
    "    # Dropout to prevent overfitting\n",
    "    layer_dropout(rate = 0.1) %>%\n",
    "    # Output layer\n",
    "    layer_dense(\n",
    "        units              = 1, \n",
    "        kernel_initializer = \"uniform\", \n",
    "        activation         = \"sigmoid\") %>% \n",
    "    # Compile ANN\n",
    "    compile(\n",
    "        optimizer = 'adam',\n",
    "        loss      = 'binary_crossentropy',\n",
    "        metrics   = 'accuracy'\n",
    "    )\n",
    "\n",
    "# Fit the keras model to the training data\n",
    "history <- fit(\n",
    "    object           = model_keras, \n",
    "    x                = as.matrix(x_train_tbl), \n",
    "    y                = y_train_vec,\n",
    "    batch_size       = 50, \n",
    "    epochs           = 35,\n",
    "    validation_split = 0.30,\n",
    "    verbose = 0\n",
    ")\n",
    "\n",
    "# save the model\n",
    "save_model_hdf5(model_keras, 'model/customer_churn.hdf5')\n",
    "\n",
    "plot(history) +\n",
    "    theme_tq() +\n",
    "    scale_color_tq() +\n",
    "    scale_fill_tq() +\n",
    "    labs(title = \"Deep Learning Training Results\")\n",
    "\n",
    "# Predicted Class\n",
    "yhat_keras_class_vec <- predict_classes(object = model_keras, x = as.matrix(x_test_tbl)) %>%\n",
    "    as.vector()\n",
    "\n",
    "# Predicted Class Probability\n",
    "yhat_keras_prob_vec  <- predict_proba(object = model_keras, x = as.matrix(x_test_tbl)) %>%\n",
    "    as.vector()\n",
    "\n",
    "# Format test data and predictions for yardstick metrics\n",
    "estimates_keras_tbl <- tibble(\n",
    "    truth      = as.factor(y_test_vec) %>% fct_recode(yes = \"1\", no = \"0\"),\n",
    "    estimate   = as.factor(yhat_keras_class_vec) %>% fct_recode(yes = \"1\", no = \"0\"),\n",
    "    class_prob = yhat_keras_prob_vec\n",
    ")\n",
    "\n",
    "estimates_keras_tbl\n",
    "\n",
    "estimates_keras_tbl %>% conf_mat(truth, estimate)\n",
    "\n",
    "estimates_keras_tbl %>% metrics(truth, estimate)\n",
    "\n",
    "estimates_keras_tbl %>% roc_auc(truth, class_prob)\n",
    "\n",
    "options(yardstick.event_first = FALSE)\n",
    "# Precision\n",
    "tibble(\n",
    "    precision = estimates_keras_tbl %>% precision(truth, estimate),\n",
    "    recall    = estimates_keras_tbl %>% recall(truth, estimate)\n",
    ")\n",
    "\n",
    "# F1-Statistic\n",
    "estimates_keras_tbl %>% f_meas(truth, estimate, beta = 1)\n",
    "\n",
    "# Setup lime::model_type() function for keras\n",
    "model_type.keras.models.Sequential <- function(x, ...) {\n",
    "    \"classification\"\n",
    "}\n",
    "\n",
    "# Setup lime::predict_model() function for keras\n",
    "predict_model.keras.models.Sequential <- function(x, newdata, type, ...) {\n",
    "    pred <- predict_proba(object = x, x = as.matrix(newdata))\n",
    "    data.frame(Yes = pred, No = 1 - pred)\n",
    "}\n",
    "\n",
    "# Test our predict_model() function\n",
    "predictions <- predict_model(x = model_keras, newdata = x_test_tbl, type = 'raw') %>%\n",
    "    tibble::as_tibble()\n",
    "\n",
    "test_tbl_with_ids$churn_prob <- predictions$Yes\n",
    "\n",
    "# Run lime() on training set\n",
    "explainer <- lime::lime(\n",
    "    x              = x_train_tbl, \n",
    "    model          = model_keras, \n",
    "    bin_continuous = FALSE)\n",
    "\n",
    "# Run explain() on explainer\n",
    "explanation <- lime::explain(\n",
    "    x_test_tbl[1,], \n",
    "    explainer    = explainer, \n",
    "    n_labels     = 1, \n",
    "    n_features   = 4,\n",
    "    kernel_width = 0.5)\n",
    "\n",
    "plot_features(explanation) +\n",
    "    labs(title = \"LIME Feature Importance Visualization\",\n",
    "         subtitle = \"Hold Out (Test) Set, First 10 Cases Shown\")\n",
    "\n",
    "plot_explanations(explanation) +\n",
    "    labs(title = \"LIME Feature Importance Heatmap\",\n",
    "         subtitle = \"Hold Out (Test) Set, First 10 Cases Shown\")\n",
    "\n",
    "save(list = ls(), file = 'data/customer_churn.RData')"
   ]
  },
  {
   "cell_type": "code",
   "execution_count": null,
   "metadata": {},
   "outputs": [],
   "source": []
  }
 ],
 "metadata": {
  "kernelspec": {
   "display_name": "R",
   "language": "R",
   "name": "ir"
  },
  "language_info": {
   "codemirror_mode": "r",
   "file_extension": ".r",
   "mimetype": "text/x-r-source",
   "name": "R",
   "pygments_lexer": "r",
   "version": "3.4.3"
  }
 },
 "nbformat": 4,
 "nbformat_minor": 2
}
